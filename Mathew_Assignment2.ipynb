{
 "cells": [
  {
   "cell_type": "code",
   "execution_count": 2,
   "id": "d6ba223e",
   "metadata": {},
   "outputs": [
    {
     "name": "stdout",
     "output_type": "stream",
     "text": [
      "Mathew P Oommen's account has 10000 in it.\n",
      "You added 5000. Your new balance is 15000.\n",
      "You took out 2000. Your new balance is 13000.\n",
      "Mathew P Oommen's account has 13000 in it.\n"
     ]
    }
   ],
   "source": [
    "#1\n",
    "class BankAccount:\n",
    "    def __init__(self, name, money=0):\n",
    "        self.name = name\n",
    "        self.money = money\n",
    "\n",
    "    def add_money(self, amount):\n",
    "        if amount > 0:\n",
    "            self.money += amount\n",
    "            print(f\"You added {amount}. Your new balance is {self.money}.\")\n",
    "        else:\n",
    "            print(\"You can only add a positive amount.\")\n",
    "\n",
    "    def take_money(self, amount):\n",
    "        if amount > self.money:\n",
    "            print(\"Not enough money in your account.\")\n",
    "        elif amount <= 0:\n",
    "            print(\"You can only take a positive amount.\")\n",
    "        else:\n",
    "            self.money -= amount\n",
    "            print(f\"You took out {amount}. Your new balance is {self.money}.\")\n",
    "\n",
    "    def show_balance(self):\n",
    "        print(f\"{self.name}'s account has {self.money} in it.\")\n",
    "\n",
    "# Example usage:\n",
    "my_account = BankAccount(\"Mathew P Oommen\", 10000)\n",
    "my_account.show_balance()\n",
    "my_account.add_money(5000)\n",
    "my_account.take_money(2000)\n",
    "my_account.show_balance()"
   ]
  },
  {
   "cell_type": "code",
   "execution_count": 4,
   "id": "293cc41b",
   "metadata": {},
   "outputs": [
    {
     "name": "stdout",
     "output_type": "stream",
     "text": [
      "Average Temperature: 30.00°C\n",
      "Average Humidity: 65.00%\n",
      "Weather: Cloudy\n"
     ]
    }
   ],
   "source": [
    "#2\n",
    "class WeatherChecker:\n",
    "    def __init__(self, temperatures, humidities):\n",
    "        self.temperatures = temperatures\n",
    "        self.humidities = humidities\n",
    "\n",
    "    def find_average_temperature(self):\n",
    "        average_temp = sum(self.temperatures) / len(self.temperatures)\n",
    "        return average_temp\n",
    "\n",
    "    def find_average_humidity(self):\n",
    "        average_humidity = sum(self.humidities) / len(self.humidities)\n",
    "        return average_humidity\n",
    "\n",
    "    def check_weather(self):\n",
    "        average_temp = self.find_average_temperature()\n",
    "        if average_temp > 30:\n",
    "            weather = \"Sunny\"\n",
    "        elif average_temp > 20:\n",
    "            weather = \"Cloudy\"\n",
    "        else:\n",
    "            weather = \"Rainy\"\n",
    "        return weather\n",
    "\n",
    "    def show_results(self):\n",
    "        print(f\"Average Temperature: {self.find_average_temperature():.2f}°C\")\n",
    "        print(f\"Average Humidity: {self.find_average_humidity():.2f}%\")\n",
    "        print(f\"Weather: {self.check_weather()}\")\n",
    "\n",
    "# Example usage:\n",
    "temperatures = [29, 32, 31, 30, 28]\n",
    "humidities = [60, 65, 70, 55, 75]\n",
    "\n",
    "check = WeatherChecker(temperatures, humidities)\n",
    "check.show_results()\n"
   ]
  },
  {
   "cell_type": "code",
   "execution_count": null,
   "id": "08979b0b",
   "metadata": {},
   "outputs": [],
   "source": []
  }
 ],
 "metadata": {
  "kernelspec": {
   "display_name": "Python 3 (ipykernel)",
   "language": "python",
   "name": "python3"
  },
  "language_info": {
   "codemirror_mode": {
    "name": "ipython",
    "version": 3
   },
   "file_extension": ".py",
   "mimetype": "text/x-python",
   "name": "python",
   "nbconvert_exporter": "python",
   "pygments_lexer": "ipython3",
   "version": "3.9.12"
  }
 },
 "nbformat": 4,
 "nbformat_minor": 5
}
